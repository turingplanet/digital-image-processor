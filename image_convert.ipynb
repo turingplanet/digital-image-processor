{
 "cells": [
  {
   "cell_type": "code",
   "execution_count": null,
   "metadata": {},
   "outputs": [],
   "source": [
    "from PIL import Image \n",
    "import numpy as np\n",
    "import math"
   ]
  },
  {
   "cell_type": "code",
   "execution_count": null,
   "metadata": {},
   "outputs": [],
   "source": [
    "im = Image.open(\"../static/lena512.pbm\")\n",
    "for pixel in list(im.getdata()):\n",
    "    print(pixel)"
   ]
  },
  {
   "cell_type": "code",
   "execution_count": null,
   "metadata": {},
   "outputs": [],
   "source": [
    "from scipy.misc import imread\n",
    "# Convert an image to 2D array \n",
    "img_array = imread(\"../static/lena512.pbm\")\n",
    "print(img_array)"
   ]
  },
  {
   "cell_type": "markdown",
   "metadata": {},
   "source": [
    "# Scaling Algorithms"
   ]
  },
  {
   "cell_type": "code",
   "execution_count": null,
   "metadata": {},
   "outputs": [],
   "source": [
    "# Modified nearest neighbor\n",
    "def nearestNeighbor(img_matrix, w2, h2):\n",
    "    w1 = len(img_matrix[0])\n",
    "    h1 = len(img_matrix)\n",
    "    x_ratio = w1 / float(w2)\n",
    "    y_ratio = h1 / float(h2)\n",
    "    new_matrix = np.zeros((h2, w2))\n",
    "    for i in range(h2):\n",
    "        for j in range(w2):\n",
    "            px = math.floor(j * x_ratio)\n",
    "            py = math.floor(i * y_ratio)\n",
    "            new_matrix[i][j] = img_matrix[py][px]\n",
    "    return new_matrix\n",
    "\n",
    "Image.fromarray(nearestNeighbor(img_array, 300, 350).astype('uint8')).save(\"../static/new_images/re_300_350.pbm\")\n",
    "Image.fromarray(nearestNeighbor(img_array, 500, 570).astype('uint8')).save(\"../static/new_images/re_500_570.pbm\")"
   ]
  },
  {
   "cell_type": "code",
   "execution_count": null,
   "metadata": {},
   "outputs": [],
   "source": [
    "def linearX(img_matrix, w2, h2):\n",
    "    w1 = len(img_matrix[0])\n",
    "    h1 = len(img_matrix)\n",
    "    x_ratio = float(w1 - 1) / w2\n",
    "    y_ratio = float(h1) / h2\n",
    "    new_matrix = np.zeros((h2, w2))\n",
    "    for i in range(h2):\n",
    "        for j in range(w2):\n",
    "            x = int(x_ratio * j)\n",
    "            y = int(y_ratio * i)\n",
    "            A = img_matrix[y][x]\n",
    "            B = img_matrix[y][x+1]\n",
    "            x_diff = (x_ratio * j) - x\n",
    "            new_pixel_value = int(A * (1 - x_diff) + B * x_diff)\n",
    "            new_matrix[i][j] = new_pixel_value\n",
    "    return new_matrix\n",
    "\n",
    "Image.fromarray(linearx(img_array, 400, 400).astype('uint8')).save(\"../static/new_images/400_400.pbm\")\n",
    "Image.fromarray(linearx(img_array, 400, 350).astype('uint8')).save(\"../static/new_images/400_350.pbm\")\n",
    "Image.fromarray(linearx(img_array, 600, 615).astype('uint8')).save(\"../static/new_images/600_615.pbm\")\n",
    "Image.fromarray(linearx(img_array, 600, 600).astype('uint8')).save(\"../static/new_images/600_600.pbm\")"
   ]
  },
  {
   "cell_type": "code",
   "execution_count": null,
   "metadata": {},
   "outputs": [],
   "source": [
    "def linearY(img_matrix, w2, h2):\n",
    "    w1 = len(img_matrix[0])\n",
    "    h1 = len(img_matrix)\n",
    "    x_ratio = float(w1) / w2\n",
    "    y_ratio = float(h1 - 1) / h2\n",
    "    new_matrix = np.zeros((h2, w2))\n",
    "    for i in range(h2):\n",
    "        for j in range(w2):\n",
    "            x = int(x_ratio * j)\n",
    "            y = int(y_ratio * i)\n",
    "            A = img_matrix[y][x]\n",
    "            C = img_matrix[y+1][x]\n",
    "            y_diff = (y_ratio * i) - y\n",
    "            new_pixel_value = int(A * (1 - y_diff) + C * y_diff)\n",
    "            new_matrix[i][j] = new_pixel_value\n",
    "    return new_matrix\n",
    "\n",
    "Image.fromarray(linearY(img_array, 400, 400).astype('uint8')).save(\"../static/new_images/400_400.pbm\")\n",
    "Image.fromarray(linearY(img_array, 400, 350).astype('uint8')).save(\"../static/new_images/400_350.pbm\")\n",
    "Image.fromarray(linearY(img_array, 600, 615).astype('uint8')).save(\"../static/new_images/600_615.pbm\")\n",
    "Image.fromarray(linearY(img_array, 600, 600).astype('uint8')).save(\"../static/new_images/600_600.pbm\")"
   ]
  },
  {
   "cell_type": "code",
   "execution_count": null,
   "metadata": {},
   "outputs": [],
   "source": [
    "# Modified bilinear\n",
    "def bilinear(img_matrix, w2, h2):\n",
    "    w1 = len(img_matrix[0])\n",
    "    h1 = len(img_matrix)\n",
    "    x_ratio = float(w1 - 1) / w2\n",
    "    y_ratio = float(h1 - 1) / h2\n",
    "    new_matrix = np.zeros((h2, w2))\n",
    "    for i in range(h2):\n",
    "        for j in range(w2):\n",
    "            x = int(x_ratio * j)\n",
    "            y = int(y_ratio * i)\n",
    "            A = img_matrix[y][x]\n",
    "            B = img_matrix[y][x+1]\n",
    "            C = img_matrix[y+1][x]\n",
    "            D = img_matrix[y+1][x+1]\n",
    "            x_diff = (x_ratio * j) - x\n",
    "            y_diff = (y_ratio * i) - y\n",
    "            new_pixel_val = int(A * (1 - x_diff) * (1 - y_diff) \n",
    "                      + B * (x_diff) * (1 - y_diff)\n",
    "                      + C * (y_diff) * (1 - x_diff)\n",
    "                      + D * (x_diff * y_diff))\n",
    "            new_matrix[i][j] = new_pixel_val\n",
    "    return new_matrix\n",
    "\n",
    "Image.fromarray(bilinear(img_array, 350, 350).astype('uint8')).save(\"../static/new_images/re_350_350.pbm\")\n",
    "Image.fromarray(bilinear(img_array, 220, 220).astype('uint8')).save(\"../static/new_images/re_220_220.pbm\")\n",
    "Image.fromarray(bilinear(img_array, 500, 600).astype('uint8')).save(\"../static/new_images/re_500_600.pbm\")"
   ]
  },
  {
   "cell_type": "markdown",
   "metadata": {},
   "source": [
    "# Gray Level "
   ]
  },
  {
   "cell_type": "code",
   "execution_count": 53,
   "metadata": {},
   "outputs": [
    {
     "name": "stdout",
     "output_type": "stream",
     "text": [
      "[[162 162 162 ... 170 154 128]\n",
      " [162 162 162 ... 170 154 128]\n",
      " [162 162 162 ... 170 154 128]\n",
      " ...\n",
      " [ 42  42  50 ... 104 100  98]\n",
      " [ 44  44  54 ... 104 104 108]\n",
      " [ 44  44  54 ... 104 104 108]]\n"
     ]
    }
   ],
   "source": [
    "# Gray level convertor function\n",
    "def gray_level_convertor(img_array, ori_gray_level, new_gray_level):\n",
    "    ori_pixel_range = 2 ** ori_gray_level\n",
    "    new_pixel_range = 2 ** new_gray_level\n",
    "    ratio = float(new_pixel_range) / float(ori_pixel_range)\n",
    "    new_img_array = np.copy(img_array)\n",
    "    for row in range(len(img_array)):\n",
    "        for col in range(len(img_array[row])):\n",
    "            new_img_array[row][col] = int(img_array[row][col] * ratio) * (256 / (2 ** new_gray_level))\n",
    "    return new_img_array\n",
    "\n",
    "print(gray_level_convertor(img_array, 8, 7))"
   ]
  },
  {
   "cell_type": "code",
   "execution_count": 55,
   "metadata": {},
   "outputs": [],
   "source": [
    "Image.fromarray(gray_level_convertor(img_array, 8, 7)).save(\"../static/new_images/8_2_7.pbm\")\n",
    "Image.fromarray(gray_level_convertor(img_array, 8, 6)).save(\"../static/new_images/8_2_6.pbm\")\n",
    "Image.fromarray(gray_level_convertor(img_array, 8, 5)).save(\"../static/new_images/8_2_5.pbm\")\n",
    "Image.fromarray(gray_level_convertor(img_array, 8, 4)).save(\"../static/new_images/8_2_4.pbm\")\n",
    "Image.fromarray(gray_level_convertor(img_array, 8, 3)).save(\"../static/new_images/8_2_3.pbm\")\n",
    "Image.fromarray(gray_level_convertor(img_array, 8, 2)).save(\"../static/new_images/8_2_2.pbm\")\n",
    "Image.fromarray(gray_level_convertor(img_array, 8, 1)).save(\"../static/new_images/8_2_1.pbm\")"
   ]
  },
  {
   "cell_type": "code",
   "execution_count": null,
   "metadata": {},
   "outputs": [],
   "source": [
    "import numpy as np\n",
    "from PIL import Image \n",
    "# Plot a grayscale image with a 2D array \n",
    "img = Image.fromarray(img_array)\n",
    "img.save(\"../new_images/new_img.pbm\")"
   ]
  },
  {
   "cell_type": "code",
   "execution_count": null,
   "metadata": {},
   "outputs": [],
   "source": [
    "import matplotlib.pyplot as plt\n",
    "import matplotlib.image as mpimg\n",
    "# Display the image\n",
    "img = mpimg.imread(\"../new_images/new_img.pbm\")\n",
    "imgplot = plt.imshow(img)\n",
    "plt.show()"
   ]
  },
  {
   "cell_type": "markdown",
   "metadata": {},
   "source": [
    "## Temp"
   ]
  },
  {
   "cell_type": "code",
   "execution_count": null,
   "metadata": {},
   "outputs": [],
   "source": [
    "import math\n",
    "# Scaling function\n",
    "def nearestNeighbor(img_array, w2, h2):\n",
    "    one_dimension_img_array = img_array.flatten()\n",
    "    w1 = len(img_array[0])\n",
    "    h1 = len(img_array)\n",
    "    x_ratio = w1 / float(w2)\n",
    "    y_ratio = h1 / float(h2)\n",
    "    px, py = 0, 0\n",
    "    new_array = np.arange(w2 * h2)\n",
    "    for i in range(h2):\n",
    "        for j in range(w2):\n",
    "            px = math.floor(j * x_ratio)\n",
    "            py = math.floor(i * y_ratio)\n",
    "            new_array[(i * w2) + j] = one_dimension_img_array[int((py * w1) + px)]\n",
    "    return new_array.reshape(w2, h2)\n",
    "\n",
    "Image.fromarray(nearestNeighbor(img_array, 300, 350).astype('uint8')).save(\"../new_images/re_300_350.pbm\")\n",
    "Image.fromarray(nearestNeighbor(img_array, 500, 570).astype('uint8')).save(\"../new_images/re_500_570.pbm\")"
   ]
  },
  {
   "cell_type": "code",
   "execution_count": null,
   "metadata": {},
   "outputs": [],
   "source": [
    "# Scaling function using bilinear method\n",
    "def bilinear(img_array, w2, h2):\n",
    "    one_dimension_img_array = img_array.flatten()\n",
    "    w1 = len(img_array[0])\n",
    "    h1 = len(img_array)\n",
    "    x_ratio = float(w1 - 1) / w2\n",
    "    y_ratio = float(h1 - 1) / h2\n",
    "    offset = 0\n",
    "    new_array = np.arange(w2 * h2)\n",
    "    for i in range(h2):\n",
    "        for j in range(w2):\n",
    "            x = int(x_ratio * j)\n",
    "            y = int(y_ratio * i)\n",
    "            x_diff = (x_ratio * j) - x\n",
    "            y_diff = (y_ratio * i) - y\n",
    "            index = y * w1 + x\n",
    "            A = one_dimension_img_array[index]\n",
    "            B = one_dimension_img_array[index + 1]\n",
    "            C = one_dimension_img_array[index + w1]\n",
    "            D = one_dimension_img_array[index + w1 + 1]\n",
    "            gray = int(A * (1 - x_diff) * (1 - y_diff) \n",
    "                      + B * (x_diff) * (1 - y_diff)\n",
    "                      + C * (y_diff) * (1 - x_diff)\n",
    "                      + D * (x_diff * y_diff))\n",
    "            new_array[offset] = gray\n",
    "            offset += 1\n",
    "    return new_array.reshape(w2, h2)\n",
    "\n",
    "Image.fromarray(bilinear(img_array, 350, 350).astype('uint8')).save(\"../static/new_images/re_350_350.pbm\")\n",
    "Image.fromarray(bilinear(img_array, 220, 220).astype('uint8')).save(\"../static/new_images/re_220_220.pbm\")"
   ]
  }
 ],
 "metadata": {
  "kernelspec": {
   "display_name": "Python 3",
   "language": "python",
   "name": "python3"
  },
  "language_info": {
   "codemirror_mode": {
    "name": "ipython",
    "version": 3
   },
   "file_extension": ".py",
   "mimetype": "text/x-python",
   "name": "python",
   "nbconvert_exporter": "python",
   "pygments_lexer": "ipython3",
   "version": "3.7.2"
  }
 },
 "nbformat": 4,
 "nbformat_minor": 2
}
